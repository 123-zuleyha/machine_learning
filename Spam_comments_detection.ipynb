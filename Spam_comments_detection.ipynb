{
 "cells": [
  {
   "cell_type": "code",
   "execution_count": 17,
   "id": "7bfa1c79-ca7d-4e98-b49f-2ee8c2c715ad",
   "metadata": {},
   "outputs": [
    {
     "name": "stdout",
     "output_type": "stream",
     "text": [
      "                                    COMMENT_ID            AUTHOR  \\\n",
      "0  LZQPQhLyRh80UYxNuaDWhIGQYNQ96IuCg-AYWqNPjpU         Julius NM   \n",
      "1  LZQPQhLyRh_C2cTtd9MvFRJedxydaVW-2sNg5Diuo4A       adam riyati   \n",
      "2  LZQPQhLyRh9MSZYnf8djyk0gEF9BHDPYrrK-qCczIY8  Evgeny Murashkin   \n",
      "3          z13jhp0bxqncu512g22wvzkasxmvvzjaz04   ElNino Melendez   \n",
      "4          z13fwbwp1oujthgqj04chlngpvzmtt3r3dw            GsMega   \n",
      "\n",
      "                  DATE                                            CONTENT  \\\n",
      "0  2013-11-07T06:20:48  Huh, anyway check out this you[tube] channel: ...   \n",
      "1  2013-11-07T12:37:15  Hey guys check out my new channel and our firs...   \n",
      "2  2013-11-08T17:34:21             just for test I have to say murdev.com   \n",
      "3  2013-11-09T08:28:43   me shaking my sexy ass on my channel enjoy ^_^ ﻿   \n",
      "4  2013-11-10T16:05:38            watch?v=vtaRGgvGtWQ   Check this out .﻿   \n",
      "\n",
      "   CLASS  \n",
      "0      1  \n",
      "1      1  \n",
      "2      1  \n",
      "3      1  \n",
      "4      1  \n"
     ]
    }
   ],
   "source": [
    "import pandas as pd\n",
    "import numpy as np\n",
    "from sklearn.feature_extraction.text import CountVectorizer\n",
    "from sklearn.model_selection import train_test_split\n",
    "from sklearn.naive_bayes import BernoulliNB\n",
    "\n",
    "data = pd.read_csv(r'OneDrive\\Masaüstü\\python_projects\\youtube_spam\\youtube-spam-collection-v1\\Youtube01-Psy.csv')\n",
    "\n",
    "print(data.head())"
   ]
  },
  {
   "cell_type": "code",
   "execution_count": 18,
   "id": "eb6859e7-fb7f-47c7-a5b9-cd66016a98ee",
   "metadata": {},
   "outputs": [
    {
     "name": "stdout",
     "output_type": "stream",
     "text": [
      "                                               CONTENT  CLASS\n",
      "195  OMG 2/7 People watched this video because ther...      0\n",
      "165                                       Song name??﻿      0\n",
      "274  You know a song sucks dick when you need to us...      0\n",
      "202        https://www.tsu.co/Aseris get money here !﻿      1\n",
      "12                https://twitter.com/GBphotographyGB﻿      1\n"
     ]
    }
   ],
   "source": [
    "data =data[[\"CONTENT\",\"CLASS\"]]\n",
    "print(data.sample(5))"
   ]
  },
  {
   "cell_type": "code",
   "execution_count": 19,
   "id": "c0aba6fb-7028-467b-911c-9bb2c2c07416",
   "metadata": {},
   "outputs": [
    {
     "name": "stdout",
     "output_type": "stream",
     "text": [
      "                                               CONTENT         CLASS\n",
      "60             Im just to check how much views it has﻿      Not Spam\n",
      "67   OMG this oldspice spraytan party commercial om...      Not Spam\n",
      "203                                        Fantastic!﻿      Not Spam\n",
      "294  follower please https://www.facebook.com/lists...  Spam Comment\n",
      "347  subscribe to me for call of duty vids and give...  Spam Comment\n"
     ]
    }
   ],
   "source": [
    "data[\"CLASS\"]=data[\"CLASS\"].map({0: \"Not Spam\",\n",
    "                                1: \"Spam Comment\"})\n",
    "print(data.sample(5))"
   ]
  },
  {
   "cell_type": "code",
   "execution_count": 21,
   "id": "80e8314a-f0f4-4ee7-9b2f-54c8f2f9378f",
   "metadata": {},
   "outputs": [
    {
     "name": "stdout",
     "output_type": "stream",
     "text": [
      "0.9857142857142858\n"
     ]
    }
   ],
   "source": [
    "#Training a Classification Model\n",
    "#Bernoulli Naive Bayes algorithm\n",
    "\n",
    "x= np.array(data[\"CONTENT\"])\n",
    "y = np.array(data[\"CLASS\"])\n",
    "\n",
    "cv=CountVectorizer()\n",
    "x= cv.fit_transform(x)\n",
    "xtrain , xtest , ytrain, ytest= train_test_split(x,y,test_size=0.2,\n",
    "                                                 random_state=42 )\n",
    "\n",
    "model = BernoulliNB()\n",
    "model.fit(xtrain, ytrain)\n",
    "print(model.score(xtest,ytest))\n",
    "                                                \n"
   ]
  },
  {
   "cell_type": "code",
   "execution_count": 23,
   "id": "2ee65e4d-43b0-40bf-93a1-92e3c2c74a81",
   "metadata": {},
   "outputs": [
    {
     "name": "stdout",
     "output_type": "stream",
     "text": [
      "['Spam Comment']\n"
     ]
    }
   ],
   "source": [
    "sample= \"Chech this out:  https://thecleverprogrammer.com/\"\n",
    "data = cv.transform([sample]).toarray()\n",
    "print(model.predict(data))"
   ]
  },
  {
   "cell_type": "code",
   "execution_count": 25,
   "id": "9f5c2773-ba4f-4f69-936f-0f1349e4ef6d",
   "metadata": {},
   "outputs": [
    {
     "name": "stdout",
     "output_type": "stream",
     "text": [
      "['Not Spam']\n"
     ]
    }
   ],
   "source": [
    "sample= \"Last of information!\"\n",
    "data = cv.transform([sample]).toarray()\n",
    "print(model.predict(data))"
   ]
  },
  {
   "cell_type": "code",
   "execution_count": null,
   "id": "f509e3e9-7211-47ea-9b46-064ab868f394",
   "metadata": {},
   "outputs": [],
   "source": []
  }
 ],
 "metadata": {
  "kernelspec": {
   "display_name": "Python 3 (ipykernel)",
   "language": "python",
   "name": "python3"
  },
  "language_info": {
   "codemirror_mode": {
    "name": "ipython",
    "version": 3
   },
   "file_extension": ".py",
   "mimetype": "text/x-python",
   "name": "python",
   "nbconvert_exporter": "python",
   "pygments_lexer": "ipython3",
   "version": "3.12.3"
  }
 },
 "nbformat": 4,
 "nbformat_minor": 5
}
